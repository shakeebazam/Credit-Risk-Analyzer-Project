{
 "cells": [
  {
   "cell_type": "markdown",
   "metadata": {},
   "source": [
    "## Credit Risk Analyzer Project"
   ]
  },
  {
   "cell_type": "markdown",
   "metadata": {},
   "source": [
    "### Note : -\n",
    "<blockquote style=\"font-size:16px;color:indigo;\">This project tries to analyze the data and various features present in the data. And then based on the analysis, a classification model is build. The code and the report are merged together into a single document, so as to ensure a clear understanding to whomsoever reading this document.</blockquote>"
   ]
  },
  {
   "cell_type": "markdown",
   "metadata": {
    "ExecuteTime": {
     "end_time": "2020-01-17T07:23:31.215237Z",
     "start_time": "2020-01-17T07:23:31.205100Z"
    }
   },
   "source": [
    "### Organization Of This Document : -\n",
    "<ul style=\"font-size:16px;list-style-type:none;\">\n",
    "    <li>1. Objective</li>\n",
    "    <li>2. Importing necessary libraries</li>\n",
    "    <li>3. Importing the dataset</li>\n",
    "    <li>&nbsp;&nbsp;&nbsp;&nbsp;3.1 understanding the size and dimensionality of the dataset</li>\n",
    "    <li>4. Exploratory data analysis</li>\n",
    "    <li>&nbsp;&nbsp;&nbsp;&nbsp;4.1. Univariate analysis</li>\n",
    "    <li>&nbsp;&nbsp;&nbsp;&nbsp;&nbsp;&nbsp;&nbsp;&nbsp;4.1.1 Age of the persons</li>\n",
    "    <li>&nbsp;&nbsp;&nbsp;&nbsp;&nbsp;&nbsp;&nbsp;&nbsp;4.1.2 Gender</li>\n",
    "    <li>&nbsp;&nbsp;&nbsp;&nbsp;&nbsp;&nbsp;&nbsp;&nbsp;4.1.3 Education</li>\n",
    "    <li>&nbsp;&nbsp;&nbsp;&nbsp;&nbsp;&nbsp;&nbsp;&nbsp;4.1.4 Occupation</li>\n",
    "    <li>&nbsp;&nbsp;&nbsp;&nbsp;&nbsp;&nbsp;&nbsp;&nbsp;4.1.5 Organization type</li>\n",
    "    <li>&nbsp;&nbsp;&nbsp;&nbsp;&nbsp;&nbsp;&nbsp;&nbsp;4.1.6 Seniority</li>\n",
    "    <li>&nbsp;&nbsp;&nbsp;&nbsp;&nbsp;&nbsp;&nbsp;&nbsp;4.1.7 Annual income</li>\n",
    "    <li>&nbsp;&nbsp;&nbsp;&nbsp;&nbsp;&nbsp;&nbsp;&nbsp;4.1.8 Disposable income</li>\n",
    "    <li>&nbsp;&nbsp;&nbsp;&nbsp;&nbsp;&nbsp;&nbsp;&nbsp;4.1.9 House type</li>\n",
    "    <li>&nbsp;&nbsp;&nbsp;&nbsp;&nbsp;&nbsp;&nbsp;&nbsp;4.1.10 Vehicle type</li>\n",
    "    <li>&nbsp;&nbsp;&nbsp;&nbsp;&nbsp;&nbsp;&nbsp;&nbsp;4.1.11 Maritial status</li>\n",
    "    <li>&nbsp;&nbsp;&nbsp;&nbsp;&nbsp;&nbsp;&nbsp;&nbsp;4.1.12 Number of cards</li>\n",
    "    <li>&nbsp;&nbsp;&nbsp;&nbsp;4.2. Bivariate analysis</li>\n",
    "    <li>&nbsp;&nbsp;&nbsp;&nbsp;&nbsp;&nbsp;&nbsp;&nbsp;4.2.1 Age v/s Gender</li>\n",
    "    <li>&nbsp;&nbsp;&nbsp;&nbsp;&nbsp;&nbsp;&nbsp;&nbsp;4.2.2 Age v/s Occupation</li>\n",
    "    <li>&nbsp;&nbsp;&nbsp;&nbsp;&nbsp;&nbsp;&nbsp;&nbsp;4.2.3 Other plots</li>\n",
    "    <li>&nbsp;&nbsp;&nbsp;&nbsp;4.3. Analyzing the imbalance in the dataset</li>\n",
    "    <li>5. Making necessary assumptions and changes</li>\n",
    "    <li>6. Splitting the data into test and train data sets</li>\n",
    "    <li>7. Data cleaning and preprocessing</li>\n",
    "    <li>&nbsp;&nbsp;&nbsp;&nbsp;7.1. Handling Numerical features</li>\n",
    "    <li>&nbsp;&nbsp;&nbsp;&nbsp;&nbsp;&nbsp;&nbsp;&nbsp;7.1.1 Scaling the annual income attribute</li>\n",
    "    <li>&nbsp;&nbsp;&nbsp;&nbsp;&nbsp;&nbsp;&nbsp;&nbsp;7.1.2 Scaling the disposable income attribute</li>\n",
    "    <li>&nbsp;&nbsp;&nbsp;&nbsp;7.2. Handling Categorical features</li>\n",
    "    <li>&nbsp;&nbsp;&nbsp;&nbsp;&nbsp;&nbsp;&nbsp;&nbsp;7.2.1 Encoding gender attribute</li>\n",
    "    <li>&nbsp;&nbsp;&nbsp;&nbsp;&nbsp;&nbsp;&nbsp;&nbsp;7.2.2 Encoding education attribute</li>\n",
    "    <li>&nbsp;&nbsp;&nbsp;&nbsp;&nbsp;&nbsp;&nbsp;&nbsp;7.2.3 Encoding the occupation attribute</li>\n",
    "    <li>&nbsp;&nbsp;&nbsp;&nbsp;&nbsp;&nbsp;&nbsp;&nbsp;7.2.4 Encoding the organization type attribute</li>\n",
    "    <li>&nbsp;&nbsp;&nbsp;&nbsp;&nbsp;&nbsp;&nbsp;&nbsp;7.2.5 Encoding the seniority attribute</li>\n",
    "    <li>&nbsp;&nbsp;&nbsp;&nbsp;&nbsp;&nbsp;&nbsp;&nbsp;7.2.6 Encoding the house type attribute</li>\n",
    "    <li>&nbsp;&nbsp;&nbsp;&nbsp;&nbsp;&nbsp;&nbsp;&nbsp;7.2.7 Encoding the vehicle type attribute</li>\n",
    "    <li>&nbsp;&nbsp;&nbsp;&nbsp;&nbsp;&nbsp;&nbsp;&nbsp;7.2.8 Encoding the maritial status attribute</li>\n",
    "    <li>8. Finding best hyperparamters using cross validation</li>\n",
    "    <li>&nbsp;&nbsp;&nbsp;&nbsp;8.1. Performing gird search cross validation</li>\n",
    "    <li>&nbsp;&nbsp;&nbsp;&nbsp;8.2. Getting the best hyperparameters</li>\n",
    "    <li>9. Training the model with best hyperparameters</li>\n",
    "    <li>10. Evaluating the performance of the model</li>\n",
    "    <li>&nbsp;&nbsp;&nbsp;&nbsp;10.1. Finding the false positive rate , true positive rate , threshold of train and test data and plotting ROC</li>\n",
    "    <li>&nbsp;&nbsp;&nbsp;&nbsp;10.2. Accuracy of the model</li>\n",
    "    <li>&nbsp;&nbsp;&nbsp;&nbsp;10.3. Confusion matrix</li>\n",
    "    <li>&nbsp;&nbsp;&nbsp;&nbsp;10.4. Feature importance</li>\n",
    "    <li>11. References</li>\n",
    "    \n",
    "    \n",
    "    \n",
    "</ul>"
   ]
  },
  {
   "cell_type": "markdown",
   "metadata": {},
   "source": [
    "### 1. Objective"
   ]
  },
  {
   "cell_type": "markdown",
   "metadata": {},
   "source": [
    "<blockquote style=\"font-size:16px;color:indigo;\">This project aims at building a classication model to predict whether a person is going to be a defaulter or not based on various parameters like age, education and income etc. This helps the companies to perform credit risk analysis i.e possibility of the borrower's repayment failure and the loss caused to the financer when the borrower does not for any reason repay the contractual loan obligations.</blockquote>"
   ]
  },
  {
   "cell_type": "markdown",
   "metadata": {},
   "source": [
    "### 2. Importing the necessary libraries "
   ]
  },
  {
   "cell_type": "code",
   "execution_count": 1,
   "metadata": {
    "ExecuteTime": {
     "end_time": "2020-02-17T12:31:13.929329Z",
     "start_time": "2020-02-17T12:31:12.864043Z"
    }
   },
   "outputs": [],
   "source": [
    "import pandas as pd\n",
    "import numpy as np\n",
    "import matplotlib.pyplot as plt\n",
    "import seaborn as sns\n",
    "from sklearn.tree import DecisionTreeClassifier\n",
    "from sklearn.preprocessing import StandardScaler\n",
    "from sklearn.model_selection import train_test_split\n",
    "from sklearn.preprocessing import OneHotEncoder\n",
    "from sklearn import preprocessing\n",
    "from sklearn.model_selection import GridSearchCV\n",
    "from copy import deepcopy\n",
    "from sklearn.metrics import roc_auc_score\n",
    "from sklearn.metrics import confusion_matrix\n",
    "from sklearn import metrics\n",
    "import warnings\n",
    "warnings.filterwarnings('ignore')"
   ]
  },
  {
   "cell_type": "markdown",
   "metadata": {},
   "source": [
    "### 3. Importing the data"
   ]
  },
  {
   "cell_type": "code",
   "execution_count": 2,
   "metadata": {
    "ExecuteTime": {
     "end_time": "2020-02-17T12:31:14.054758Z",
     "start_time": "2020-02-17T12:31:13.931349Z"
    }
   },
   "outputs": [
    {
     "data": {
      "text/html": [
       "<div>\n",
       "<style scoped>\n",
       "    .dataframe tbody tr th:only-of-type {\n",
       "        vertical-align: middle;\n",
       "    }\n",
       "\n",
       "    .dataframe tbody tr th {\n",
       "        vertical-align: top;\n",
       "    }\n",
       "\n",
       "    .dataframe thead th {\n",
       "        text-align: right;\n",
       "    }\n",
       "</style>\n",
       "<table border=\"1\" class=\"dataframe\">\n",
       "  <thead>\n",
       "    <tr style=\"text-align: right;\">\n",
       "      <th></th>\n",
       "      <th>age</th>\n",
       "      <th>gender</th>\n",
       "      <th>education</th>\n",
       "      <th>occupation</th>\n",
       "      <th>organization_type</th>\n",
       "      <th>seniority</th>\n",
       "      <th>annual_income</th>\n",
       "      <th>disposable_income</th>\n",
       "      <th>house_type</th>\n",
       "      <th>vehicle_type</th>\n",
       "      <th>marital_status</th>\n",
       "      <th>no_card</th>\n",
       "      <th>default</th>\n",
       "    </tr>\n",
       "  </thead>\n",
       "  <tbody>\n",
       "    <tr>\n",
       "      <th>0</th>\n",
       "      <td>19</td>\n",
       "      <td>Male</td>\n",
       "      <td>Graduate</td>\n",
       "      <td>Professional</td>\n",
       "      <td>None</td>\n",
       "      <td>None</td>\n",
       "      <td>186319</td>\n",
       "      <td>21625</td>\n",
       "      <td>Family</td>\n",
       "      <td>None</td>\n",
       "      <td>Married</td>\n",
       "      <td>0</td>\n",
       "      <td>1</td>\n",
       "    </tr>\n",
       "    <tr>\n",
       "      <th>1</th>\n",
       "      <td>18</td>\n",
       "      <td>Male</td>\n",
       "      <td>Under Graduate</td>\n",
       "      <td>Professional</td>\n",
       "      <td>None</td>\n",
       "      <td>None</td>\n",
       "      <td>277022</td>\n",
       "      <td>20442</td>\n",
       "      <td>Rented</td>\n",
       "      <td>None</td>\n",
       "      <td>Married</td>\n",
       "      <td>0</td>\n",
       "      <td>1</td>\n",
       "    </tr>\n",
       "  </tbody>\n",
       "</table>\n",
       "</div>"
      ],
      "text/plain": [
       "   age gender       education    occupation organization_type seniority  \\\n",
       "0   19   Male        Graduate  Professional              None      None   \n",
       "1   18   Male  Under Graduate  Professional              None      None   \n",
       "\n",
       "   annual_income  disposable_income house_type vehicle_type marital_status  \\\n",
       "0         186319              21625     Family         None        Married   \n",
       "1         277022              20442     Rented         None        Married   \n",
       "\n",
       "   no_card  default  \n",
       "0        0        1  \n",
       "1        0        1  "
      ]
     },
     "execution_count": 2,
     "metadata": {},
     "output_type": "execute_result"
    }
   ],
   "source": [
    "data = pd.read_csv('D:\\Simpliearn Lectures\\Projects\\Credit Risk Analyzer Project/credit_data.csv')\n",
    "data.head(2)"
   ]
  },
  {
   "cell_type": "markdown",
   "metadata": {},
   "source": [
    "#### 3.1 Understanding the size and dimensionality of the dataset"
   ]
  },
  {
   "cell_type": "code",
   "execution_count": 3,
   "metadata": {
    "ExecuteTime": {
     "end_time": "2020-02-17T12:31:14.088434Z",
     "start_time": "2020-02-17T12:31:14.056930Z"
    }
   },
   "outputs": [
    {
     "name": "stdout",
     "output_type": "stream",
     "text": [
      "<class 'pandas.core.frame.DataFrame'>\n",
      "RangeIndex: 50636 entries, 0 to 50635\n",
      "Data columns (total 13 columns):\n",
      " #   Column             Non-Null Count  Dtype \n",
      "---  ------             --------------  ----- \n",
      " 0   age                50636 non-null  int64 \n",
      " 1   gender             50636 non-null  object\n",
      " 2   education          50636 non-null  object\n",
      " 3   occupation         50636 non-null  object\n",
      " 4   organization_type  50636 non-null  object\n",
      " 5   seniority          50636 non-null  object\n",
      " 6   annual_income      50636 non-null  int64 \n",
      " 7   disposable_income  50636 non-null  int64 \n",
      " 8   house_type         50636 non-null  object\n",
      " 9   vehicle_type       50636 non-null  object\n",
      " 10  marital_status     50636 non-null  object\n",
      " 11  no_card            50636 non-null  int64 \n",
      " 12  default            50636 non-null  int64 \n",
      "dtypes: int64(5), object(8)\n",
      "memory usage: 5.0+ MB\n"
     ]
    }
   ],
   "source": [
    "data.info()"
   ]
  },
  {
   "cell_type": "markdown",
   "metadata": {},
   "source": [
    "<blockquote style=\"font-size:16px;color:indigo;\">\n",
    "    <ul type=\"none\">\n",
    "    <li>As we can see there are no null or missing values in the dataset.</li>\n",
    "    <li>The dataset contains 50,636 instances of data.</li>\n",
    "        <li>And the data contains 12 features. And out of these 12 features there are 4 numerical features and 8 categorical features.</li>\n",
    "    </ul>\n",
    "</blockquote>"
   ]
  },
  {
   "cell_type": "code",
   "execution_count": 4,
   "metadata": {
    "ExecuteTime": {
     "end_time": "2020-02-17T12:31:14.205961Z",
     "start_time": "2020-02-17T12:31:14.094571Z"
    }
   },
   "outputs": [
    {
     "data": {
      "text/html": [
       "<div>\n",
       "<style scoped>\n",
       "    .dataframe tbody tr th:only-of-type {\n",
       "        vertical-align: middle;\n",
       "    }\n",
       "\n",
       "    .dataframe tbody tr th {\n",
       "        vertical-align: top;\n",
       "    }\n",
       "\n",
       "    .dataframe thead th {\n",
       "        text-align: right;\n",
       "    }\n",
       "</style>\n",
       "<table border=\"1\" class=\"dataframe\">\n",
       "  <thead>\n",
       "    <tr style=\"text-align: right;\">\n",
       "      <th></th>\n",
       "      <th>age</th>\n",
       "      <th>annual_income</th>\n",
       "      <th>disposable_income</th>\n",
       "      <th>no_card</th>\n",
       "      <th>default</th>\n",
       "    </tr>\n",
       "  </thead>\n",
       "  <tbody>\n",
       "    <tr>\n",
       "      <th>count</th>\n",
       "      <td>50636.000000</td>\n",
       "      <td>50636.000000</td>\n",
       "      <td>50636.000000</td>\n",
       "      <td>50636.000000</td>\n",
       "      <td>50636.000000</td>\n",
       "    </tr>\n",
       "    <tr>\n",
       "      <th>mean</th>\n",
       "      <td>29.527411</td>\n",
       "      <td>277243.989889</td>\n",
       "      <td>18325.788569</td>\n",
       "      <td>0.509815</td>\n",
       "      <td>0.158425</td>\n",
       "    </tr>\n",
       "    <tr>\n",
       "      <th>std</th>\n",
       "      <td>8.816532</td>\n",
       "      <td>153838.973755</td>\n",
       "      <td>12677.864844</td>\n",
       "      <td>0.669883</td>\n",
       "      <td>0.365142</td>\n",
       "    </tr>\n",
       "    <tr>\n",
       "      <th>min</th>\n",
       "      <td>18.000000</td>\n",
       "      <td>50000.000000</td>\n",
       "      <td>1000.000000</td>\n",
       "      <td>0.000000</td>\n",
       "      <td>0.000000</td>\n",
       "    </tr>\n",
       "    <tr>\n",
       "      <th>25%</th>\n",
       "      <td>25.000000</td>\n",
       "      <td>154052.250000</td>\n",
       "      <td>8317.750000</td>\n",
       "      <td>0.000000</td>\n",
       "      <td>0.000000</td>\n",
       "    </tr>\n",
       "    <tr>\n",
       "      <th>50%</th>\n",
       "      <td>27.000000</td>\n",
       "      <td>258860.500000</td>\n",
       "      <td>15770.000000</td>\n",
       "      <td>0.000000</td>\n",
       "      <td>0.000000</td>\n",
       "    </tr>\n",
       "    <tr>\n",
       "      <th>75%</th>\n",
       "      <td>30.000000</td>\n",
       "      <td>385071.500000</td>\n",
       "      <td>24135.000000</td>\n",
       "      <td>1.000000</td>\n",
       "      <td>0.000000</td>\n",
       "    </tr>\n",
       "    <tr>\n",
       "      <th>max</th>\n",
       "      <td>64.000000</td>\n",
       "      <td>999844.000000</td>\n",
       "      <td>49999.000000</td>\n",
       "      <td>2.000000</td>\n",
       "      <td>1.000000</td>\n",
       "    </tr>\n",
       "  </tbody>\n",
       "</table>\n",
       "</div>"
      ],
      "text/plain": [
       "                age  annual_income  disposable_income       no_card  \\\n",
       "count  50636.000000   50636.000000       50636.000000  50636.000000   \n",
       "mean      29.527411  277243.989889       18325.788569      0.509815   \n",
       "std        8.816532  153838.973755       12677.864844      0.669883   \n",
       "min       18.000000   50000.000000        1000.000000      0.000000   \n",
       "25%       25.000000  154052.250000        8317.750000      0.000000   \n",
       "50%       27.000000  258860.500000       15770.000000      0.000000   \n",
       "75%       30.000000  385071.500000       24135.000000      1.000000   \n",
       "max       64.000000  999844.000000       49999.000000      2.000000   \n",
       "\n",
       "            default  \n",
       "count  50636.000000  \n",
       "mean       0.158425  \n",
       "std        0.365142  \n",
       "min        0.000000  \n",
       "25%        0.000000  \n",
       "50%        0.000000  \n",
       "75%        0.000000  \n",
       "max        1.000000  "
      ]
     },
     "execution_count": 4,
     "metadata": {},
     "output_type": "execute_result"
    }
   ],
   "source": [
    "data.describe()"
   ]
  },
  {
   "cell_type": "markdown",
   "metadata": {},
   "source": [
    "### 4. Exploratory data analysis"
   ]
  },
  {
   "cell_type": "markdown",
   "metadata": {},
   "source": [
    "#### 4.1 Univariate analysis"
   ]
  },
  {
   "cell_type": "markdown",
   "metadata": {},
   "source": [
    "##### 4.1.1 Age of the persons"
   ]
  },
  {
   "cell_type": "markdown",
   "metadata": {},
   "source": [
    "<span style=\"font-size:15px;\">&nbsp;&nbsp;&nbsp;&nbsp;Plotting the distribution plot (Probability density function) of the feature 'AGE'</span>"
   ]
  },
  {
   "cell_type": "code",
   "execution_count": 5,
   "metadata": {
    "ExecuteTime": {
     "end_time": "2020-02-17T12:31:15.226999Z",
     "start_time": "2020-02-17T12:31:14.207809Z"
    }
   },
   "outputs": [
    {
     "data": {
      "text/plain": [
       "<seaborn.axisgrid.FacetGrid at 0x291559d8a30>"
      ]
     },
     "execution_count": 5,
     "metadata": {},
     "output_type": "execute_result"
    },
    {
     "data": {
      "image/png": "[encoded data removed]",
      "text/plain": [
       "<Figure size 1195.38x576 with 1 Axes>"
      ]
     },
     "metadata": {
      "needs_background": "light"
     },
     "output_type": "display_data"
    }
   ],
   "source": [
    "sns.FacetGrid(data, hue=\"default\",height=8,aspect=2).map(sns.distplot, \"age\").add_legend()"
   ]
  },
  {
   "cell_type": "markdown",
   "metadata": {},
   "source": [
    "<blockquote style=\"font-size:16px;color:maroon;\">\n",
    "    <ul type=\"none\">\n",
    "    <li>12% of the people in this dataset are of age between 25 -> 35 and are not defaulters.</li>\n",
    "    <li>There are 10% of the people in this dataset who are of age between 25 -> 35 and are defaulters.</li>\n",
    "        <li>And the people who are having age > 40 are very less in this dataset.</li>\n",
    "    </ul>\n",
    "</blockquote>"
   ]
  },
  {
   "cell_type": "markdown",
   "metadata": {},
   "source": [
    "<span style=\"font-size:15px;\">&nbsp;&nbsp;&nbsp;&nbsp;Understanding the value counts of the feature 'AGE'</span>"
   ]
  },
  {
   "cell_type": "code",
   "execution_count": 6,
   "metadata": {
    "ExecuteTime": {
     "end_time": "2020-02-17T12:31:15.257595Z",
     "start_time": "2020-02-17T12:31:15.229905Z"
    }
   },
   "outputs": [
    {
     "name": "stdout",
     "output_type": "stream",
     "text": [
      "AGE     : Number of points where age = AGE\n",
      "##########################################\n",
      "28 \t: 5514\n",
      "27 \t: 5512\n",
      "25 \t: 5502\n",
      "29 \t: 5491\n",
      "26 \t: 5423\n",
      "30 \t: 2073\n",
      "23 \t: 1383\n",
      "19 \t: 1374\n",
      "22 \t: 1360\n",
      "24 \t: 1349\n",
      "20 \t: 1336\n",
      "21 \t: 1325\n",
      "18 \t: 1279\n",
      "34 \t: 780\n",
      "39 \t: 764\n",
      "33 \t: 761\n",
      "36 \t: 758\n",
      "37 \t: 757\n",
      "35 \t: 750\n",
      "32 \t: 745\n",
      "38 \t: 745\n",
      "31 \t: 690\n",
      "53 \t: 229\n",
      "43 \t: 220\n",
      "45 \t: 217\n",
      "51 \t: 216\n",
      "41 \t: 210\n",
      "54 \t: 209\n",
      "50 \t: 207\n",
      "55 \t: 206\n",
      "64 \t: 205\n",
      "42 \t: 204\n",
      "62 \t: 202\n",
      "44 \t: 202\n",
      "59 \t: 199\n",
      "52 \t: 199\n",
      "49 \t: 197\n",
      "58 \t: 196\n",
      "56 \t: 194\n",
      "46 \t: 189\n",
      "61 \t: 188\n",
      "48 \t: 188\n",
      "57 \t: 184\n",
      "63 \t: 181\n",
      "40 \t: 178\n",
      "47 \t: 174\n",
      "60 \t: 171\n"
     ]
    }
   ],
   "source": [
    "age = data['age'].value_counts()\n",
    "print(\"AGE     : Number of points where age = AGE\")\n",
    "print(\"##########################################\")\n",
    "for i in range(len(age)):\n",
    "    print(age.index[i],\"\\t:\",age.values[i])"
   ]
  },
  {
   "cell_type": "markdown",
   "metadata": {},
   "source": [
    "##### 4.1.2 Gender"
   ]
  },
  {
   "cell_type": "markdown",
   "metadata": {},
   "source": [
    "<span style=\"font-size:15px;\">&nbsp;&nbsp;&nbsp;&nbsp;Plotting the number of male and female customers</span>"
   ]
  },
  {
   "cell_type": "code",
   "execution_count": 7,
   "metadata": {
    "ExecuteTime": {
     "end_time": "2020-02-17T12:31:15.769313Z",
     "start_time": "2020-02-17T12:31:15.260105Z"
    }
   },
   "outputs": [
    {
     "data": {
      "text/plain": [
       "<seaborn.axisgrid.FacetGrid at 0x291568f93d0>"
      ]
     },
     "execution_count": 7,
     "metadata": {},
     "output_type": "execute_result"
    },
    {
     "data": {
      "image/png": "[encoded data removed]",
      "text/plain": [
       "<Figure size 403.375x360 with 1 Axes>"
      ]
     },
     "metadata": {
      "needs_background": "light"
     },
     "output_type": "display_data"
    }
   ],
   "source": [
    "sns.catplot(x=\"gender\",hue=\"default\", kind=\"count\", data=data)"
   ]
  },
  {
   "cell_type": "markdown",
   "metadata": {},
   "source": [
    "<blockquote style=\"font-size:16px;color:maroon;\">\n",
    "    <ul type=\"none\">\n",
    "    <li>There are more number of male defaulters than the female defaulters.</li>\n",
    "    </ul>\n",
    "</blockquote>"
   ]
  },
  {
   "cell_type": "markdown",
   "metadata": {},
   "source": [
    "#### 4.1.3 Education"
   ]
  },
  {
   "cell_type": "markdown",
   "metadata": {},
   "source": [
    "<span style=\"font-size:15px;\">&nbsp;&nbsp;&nbsp;&nbsp;Understanding what degree does hold</span>"
   ]
  },
  {
   "cell_type": "code",
   "execution_count": 8,
   "metadata": {
    "ExecuteTime": {
     "end_time": "2020-02-17T12:31:16.234509Z",
     "start_time": "2020-02-17T12:31:15.772068Z"
    }
   },
   "outputs": [
    {
     "data": {
      "text/plain": [
       "<seaborn.axisgrid.FacetGrid at 0x29155bca760>"
      ]
     },
     "execution_count": 8,
     "metadata": {},
     "output_type": "execute_result"
    },
    {
     "data": {
      "image/png": "[encoded data removed]",
      "text/plain": [
       "<Figure size 763.375x360 with 1 Axes>"
      ]
     },
     "metadata": {
      "needs_background": "light"
     },
     "output_type": "display_data"
    }
   ],
   "source": [
    "sns.catplot(x=\"education\",hue=\"default\", kind=\"count\", data=data,aspect=2)"
   ]
  },
  {
   "cell_type": "markdown",
   "metadata": {},
   "source": [
    "<span style=\"font-size:15px;\">&nbsp;&nbsp;&nbsp;&nbsp;Total number of Graduates,Post Graduates and Undergraduates and others </span>"
   ]
  },
  {
   "cell_type": "code",
   "execution_count": 9,
   "metadata": {
    "ExecuteTime": {
     "end_time": "2020-02-17T12:31:16.251303Z",
     "start_time": "2020-02-17T12:31:16.236836Z"
    }
   },
   "outputs": [
    {
     "name": "stdout",
     "output_type": "stream",
     "text": [
      "Education       :  Count\n",
      "########################\n",
      "Graduate \t: 24320\n",
      "Post Graduate \t: 14545\n",
      "Under Graduate \t: 6189\n",
      "Other \t: 5582\n"
     ]
    }
   ],
   "source": [
    "edu = data['education'].value_counts()\n",
    "print(\"Education       :  Count\")\n",
    "print(\"########################\")\n",
    "for i in range(len(edu)):\n",
    "    print(edu.index[i],\"\\t:\",edu.values[i])"
   ]
  },
  {
   "cell_type": "markdown",
   "metadata": {},
   "source": [
    "#### 4.1.4 Occupation"
   ]
  },
  {
   "cell_type": "markdown",
   "metadata": {},
   "source": [
    "<span style=\"font-size:15px;\">&nbsp;&nbsp;&nbsp;&nbsp;Understanding customers occupations</span>"
   ]
  },
  {
   "cell_type": "code",
   "execution_count": 10,
   "metadata": {
    "ExecuteTime": {
     "end_time": "2020-02-17T12:31:16.718126Z",
     "start_time": "2020-02-17T12:31:16.253396Z"
    }
   },
   "outputs": [
    {
     "data": {
      "text/plain": [
       "<seaborn.axisgrid.FacetGrid at 0x2915665b910>"
      ]
     },
     "execution_count": 10,
     "metadata": {},
     "output_type": "execute_result"
    },
    {
     "data": {
      "image/png": "[encoded data removed]",
      "text/plain": [
       "<Figure size 763.375x360 with 1 Axes>"
      ]
     },
     "metadata": {
      "needs_background": "light"
     },
     "output_type": "display_data"
    }
   ],
   "source": [
    "sns.catplot(x=\"occupation\",hue=\"default\", kind=\"count\", data=data,aspect=2)"
   ]
  },
  {
   "cell_type": "markdown",
   "metadata": {},
   "source": [
    "<span style=\"font-size:15px;\">&nbsp;&nbsp;&nbsp;&nbsp;Customers occupations</span>"
   ]
  },
  {
   "cell_type": "code",
   "execution_count": 11,
   "metadata": {
    "ExecuteTime": {
     "end_time": "2020-02-17T12:31:16.733785Z",
     "start_time": "2020-02-17T12:31:16.720617Z"
    }
   },
   "outputs": [
    {
     "name": "stdout",
     "output_type": "stream",
     "text": [
      "Occupation       :  Count\n",
      "########################\n",
      "Salaried \t: 29738\n",
      "Business \t: 10072\n",
      "Professional \t: 7942\n",
      "Student \t: 2884\n"
     ]
    }
   ],
   "source": [
    "oc = data['occupation'].value_counts()\n",
    "print(\"Occupation       :  Count\")\n",
    "print(\"########################\")\n",
    "for i in range(len(oc)):\n",
    "    print(oc.index[i],\"\\t:\",oc.values[i])"
   ]
  },
  {
   "cell_type": "markdown",
   "metadata": {},
   "source": [
    "#### 4.1.5 Organization type"
   ]
  },
  {
   "cell_type": "markdown",
   "metadata": {},
   "source": [
    "<span style=\"font-size:15px;\">&nbsp;&nbsp;&nbsp;&nbsp;Customers organization type</span>"
   ]
  },
  {
   "cell_type": "code",
   "execution_count": 12,
   "metadata": {
    "ExecuteTime": {
     "end_time": "2020-02-17T12:31:17.387501Z",
     "start_time": "2020-02-17T12:31:16.736629Z"
    }
   },
   "outputs": [
    {
     "data": {
      "text/plain": [
       "<seaborn.axisgrid.FacetGrid at 0x291567cdfa0>"
      ]
     },
     "execution_count": 12,
     "metadata": {},
     "output_type": "execute_result"
    },
    {
     "data": {
      "image/png": "[encoded data removed]",
      "text/plain": [
       "<Figure size 763.375x360 with 1 Axes>"
      ]
     },
     "metadata": {
      "needs_background": "light"
     },
     "output_type": "display_data"
    }
   ],
   "source": [
    "sns.catplot(x=\"organization_type\",hue=\"default\", kind=\"count\", data=data,aspect=2)"
   ]
  },
  {
   "cell_type": "markdown",
   "metadata": {},
   "source": [
    "<blockquote style=\"font-size:16px;color:maroon;\">\n",
    "    <ul type=\"none\">\n",
    "    <li>There are defaulters > 5000 who do not belong to an organization of any tier.</li>\n",
    "    </ul>\n",
    "</blockquote>"
   ]
  },
  {
   "cell_type": "markdown",
   "metadata": {},
   "source": [
    "<span style=\"font-size:15px;\">&nbsp;&nbsp;&nbsp;&nbsp;Organization type counts</span>"
   ]
  },
  {
   "cell_type": "code",
   "execution_count": 13,
   "metadata": {
    "ExecuteTime": {
     "end_time": "2020-02-17T12:31:17.402588Z",
     "start_time": "2020-02-17T12:31:17.389305Z"
    }
   },
   "outputs": [
    {
     "name": "stdout",
     "output_type": "stream",
     "text": [
      "Organization type  :  Count\n",
      "############################\n",
      "None \t\t   : 35884\n",
      "Tier 3 \t\t   : 9165\n",
      "Tier 2 \t\t   : 4226\n",
      "Tier 1 \t\t   : 1361\n"
     ]
    }
   ],
   "source": [
    "org = data['organization_type'].value_counts()\n",
    "print(\"Organization type  :  Count\")\n",
    "print(\"############################\")\n",
    "for i in range(len(org)):\n",
    "    print(org.index[i],\"\\t\\t   :\",org.values[i])"
   ]
  },
  {
   "cell_type": "markdown",
   "metadata": {},
   "source": [
    "#### 4.1.6 Seniority"
   ]
  },
  {
   "cell_type": "markdown",
   "metadata": {},
   "source": [
    "<span style=\"font-size:15px;\">&nbsp;&nbsp;&nbsp;&nbsp;Customers seniority in their organization</span>"
   ]
  },
  {
   "cell_type": "code",
   "execution_count": 14,
   "metadata": {
    "ExecuteTime": {
     "end_time": "2020-02-17T12:31:17.980276Z",
     "start_time": "2020-02-17T12:31:17.405317Z"
    }
   },
   "outputs": [
    {
     "data": {
      "text/plain": [
       "<seaborn.axisgrid.FacetGrid at 0x29156542f70>"
      ]
     },
     "execution_count": 14,
     "metadata": {},
     "output_type": "execute_result"
    },
    {
     "data": {
      "image/png": "[encoded data removed]",
      "text/plain": [
       "<Figure size 763.375x360 with 1 Axes>"
      ]
     },
     "metadata": {
      "needs_background": "light"
     },
     "output_type": "display_data"
    }
   ],
   "source": [
    "sns.catplot(x=\"seniority\",hue=\"default\", kind=\"count\", data=data,aspect=2)"
   ]
  },
  {
   "cell_type": "markdown",
   "metadata": {},
   "source": [
    "<span style=\"font-size:15px;\">&nbsp;&nbsp;&nbsp;&nbsp;Seniority of customers in their organization counts</span>"
   ]
  },
  {
   "cell_type": "code",
   "execution_count": 15,
   "metadata": {
    "ExecuteTime": {
     "end_time": "2020-02-17T12:31:17.994918Z",
     "start_time": "2020-02-17T12:31:17.982236Z"
    }
   },
   "outputs": [
    {
     "name": "stdout",
     "output_type": "stream",
     "text": [
      "Seniority  :  Count\n",
      "############################\n",
      "None : 20898\n",
      "Mid-level 1 : 15565\n",
      "Junior : 7934\n",
      "Entry : 6136\n",
      "Mid-level 2 : 60\n",
      "Senior : 43\n"
     ]
    }
   ],
   "source": [
    "sr = data['seniority'].value_counts()\n",
    "print(\"Seniority  :  Count\")\n",
    "print(\"############################\")\n",
    "for i in range(len(sr)):\n",
    "    print(sr.index[i],\":\",sr.values[i])"
   ]
  },
  {
   "cell_type": "markdown",
   "metadata": {},
   "source": [
    "#### 4.1.7 Annual income"
   ]
  },
  {
   "cell_type": "markdown",
   "metadata": {},
   "source": [
    "<span style=\"font-size:15px;\">&nbsp;&nbsp;&nbsp;&nbsp;Visualizing the distribution of the income</span>"
   ]
  },
  {
   "cell_type": "code",
   "execution_count": 16,
   "metadata": {
    "ExecuteTime": {
     "end_time": "2020-02-17T12:31:18.631695Z",
     "start_time": "2020-02-17T12:31:17.996893Z"
    }
   },
   "outputs": [
    {
     "data": {
      "text/plain": [
       "<AxesSubplot:xlabel='annual_income', ylabel='Density'>"
      ]
     },
     "execution_count": 16,
     "metadata": {},
     "output_type": "execute_result"
    },
    {
     "data": {
      "image/png": "[encoded data removed]",
      "text/plain": [
       "<Figure size 432x288 with 1 Axes>"
      ]
     },
     "metadata": {
      "needs_background": "light"
     },
     "output_type": "display_data"
    }
   ],
   "source": [
    "income = data['annual_income']\n",
    "sns.distplot(income)"
   ]
  },
  {
   "cell_type": "markdown",
   "metadata": {},
   "source": [
    "#### 4.1.8 Discretionary income"
   ]
  },
  {
   "cell_type": "markdown",
   "metadata": {},
   "source": [
    "<span style=\"font-size:15px;\">&nbsp;&nbsp;&nbsp;&nbsp;Visualizing the distribution of the dispoable income. i.e income remaining after deduction of taxes and social security charges, available to be spent or saved as one wishes.\n",
    "</span>"
   ]
  },
  {
   "cell_type": "code",
   "execution_count": 17,
   "metadata": {
    "ExecuteTime": {
     "end_time": "2020-02-17T12:31:19.217463Z",
     "start_time": "2020-02-17T12:31:18.633451Z"
    }
   },
   "outputs": [
    {
     "data": {
      "text/plain": [
       "<AxesSubplot:xlabel='disposable_income', ylabel='Density'>"
      ]
     },
     "execution_count": 17,
     "metadata": {},
     "output_type": "execute_result"
    },
    {
     "data": {
      "image/png": "[encoded data removed]",
      "text/plain": [
       "<Figure size 432x288 with 1 Axes>"
      ]
     },
     "metadata": {
      "needs_background": "light"
     },
     "output_type": "display_data"
    }
   ],
   "source": [
    "dis_income = data['disposable_income']\n",
    "sns.distplot(dis_income)"
   ]
  },
  {
   "cell_type": "markdown",
   "metadata": {},
   "source": [
    "#### 4.1.9 House type"
   ]
  },
  {
   "cell_type": "markdown",
   "metadata": {},
   "source": [
    "<span style=\"font-size:15px;\">&nbsp;&nbsp;&nbsp;&nbsp;Customers house type</span>"
   ]
  },
  {
   "cell_type": "code",
   "execution_count": 18,
   "metadata": {
    "ExecuteTime": {
     "end_time": "2020-02-17T12:31:19.657320Z",
     "start_time": "2020-02-17T12:31:19.223755Z"
    }
   },
   "outputs": [
    {
     "data": {
      "text/plain": [
       "<seaborn.axisgrid.FacetGrid at 0x291571b6be0>"
      ]
     },
     "execution_count": 18,
     "metadata": {},
     "output_type": "execute_result"
    },
    {
     "data": {
      "image/png": "[encoded data removed]",
      "text/plain": [
       "<Figure size 763.375x360 with 1 Axes>"
      ]
     },
     "metadata": {
      "needs_background": "light"
     },
     "output_type": "display_data"
    }
   ],
   "source": [
    "sns.catplot(x=\"house_type\",hue=\"default\", kind=\"count\", data=data,aspect=2)"
   ]
  },
  {
   "cell_type": "markdown",
   "metadata": {},
   "source": [
    "<span style=\"font-size:15px;\">&nbsp;&nbsp;&nbsp;&nbsp;House type counts</span>"
   ]
  },
  {
   "cell_type": "code",
   "execution_count": 19,
   "metadata": {
    "ExecuteTime": {
     "end_time": "2020-02-17T12:31:19.671183Z",
     "start_time": "2020-02-17T12:31:19.659023Z"
    }
   },
   "outputs": [
    {
     "name": "stdout",
     "output_type": "stream",
     "text": [
      "House type  :  Count\n",
      "############################\n",
      "Rented : 30411\n",
      "Owned : 9077\n",
      "Family : 7506\n",
      "Company provided : 3642\n"
     ]
    }
   ],
   "source": [
    "ht = data['house_type'].value_counts()\n",
    "print(\"House type  :  Count\")\n",
    "print(\"############################\")\n",
    "for i in range(len(ht)):\n",
    "    print(ht.index[i],\":\",ht.values[i])"
   ]
  },
  {
   "cell_type": "markdown",
   "metadata": {},
   "source": [
    "#### 4.1.10 Vehicle type"
   ]
  },
  {
   "cell_type": "markdown",
   "metadata": {},
   "source": [
    "<span style=\"font-size:15px;\">&nbsp;&nbsp;&nbsp;&nbsp;Customers vehicle type</span>"
   ]
  },
  {
   "cell_type": "code",
   "execution_count": 20,
   "metadata": {
    "ExecuteTime": {
     "end_time": "2020-02-17T12:31:20.175091Z",
     "start_time": "2020-02-17T12:31:19.673015Z"
    }
   },
   "outputs": [
    {
     "data": {
      "text/plain": [
       "<seaborn.axisgrid.FacetGrid at 0x291571dcb80>"
      ]
     },
     "execution_count": 20,
     "metadata": {},
     "output_type": "execute_result"
    },
    {
     "data": {
      "image/png": "[encoded data removed]",
      "text/plain": [
       "<Figure size 763.375x360 with 1 Axes>"
      ]
     },
     "metadata": {
      "needs_background": "light"
     },
     "output_type": "display_data"
    }
   ],
   "source": [
    "sns.catplot(x=\"vehicle_type\",hue=\"default\", kind=\"count\", data=data,aspect=2)"
   ]
  },
  {
   "cell_type": "markdown",
   "metadata": {},
   "source": [
    "<blockquote style=\"font-size:16px;color:maroon;\">\n",
    "    <ul type=\"none\">\n",
    "    <li>The number of people who own a four wheeler vehicle and who are defaulters are very less.</li>\n",
    "    </ul>\n",
    "</blockquote>"
   ]
  },
  {
   "cell_type": "markdown",
   "metadata": {},
   "source": [
    "<span style=\"font-size:15px;\">&nbsp;&nbsp;&nbsp;&nbsp;Vehicle type counts</span>"
   ]
  },
  {
   "cell_type": "code",
   "execution_count": 21,
   "metadata": {
    "ExecuteTime": {
     "end_time": "2020-02-17T12:31:20.296630Z",
     "start_time": "2020-02-17T12:31:20.177170Z"
    }
   },
   "outputs": [
    {
     "name": "stdout",
     "output_type": "stream",
     "text": [
      "Vehicle type  :  Count\n",
      "############################\n",
      "None : 33301\n",
      "Two Wheeler : 15101\n",
      "Four Wheeler : 2234\n"
     ]
    }
   ],
   "source": [
    "vt = data['vehicle_type'].value_counts()\n",
    "print(\"Vehicle type  :  Count\")\n",
    "print(\"############################\")\n",
    "for i in range(len(vt)):\n",
    "    print(vt.index[i],\":\",vt.values[i])"
   ]
  },
  {
   "cell_type": "markdown",
   "metadata": {},
   "source": [
    "#### 4.1.11 Marital status"
   ]
  },
  {
   "cell_type": "markdown",
   "metadata": {},
   "source": [
    "<span style=\"font-size:15px;\">&nbsp;&nbsp;&nbsp;&nbsp;Customers martial status</span>"
   ]
  },
  {
   "cell_type": "code",
   "execution_count": 22,
   "metadata": {
    "ExecuteTime": {
     "end_time": "2020-02-17T12:31:20.829068Z",
     "start_time": "2020-02-17T12:31:20.298791Z"
    }
   },
   "outputs": [
    {
     "data": {
      "text/plain": [
       "<seaborn.axisgrid.FacetGrid at 0x291572687f0>"
      ]
     },
     "execution_count": 22,
     "metadata": {},
     "output_type": "execute_result"
    },
    {
     "data": {
      "image/png": "[encoded data removed]",
      "text/plain": [
       "<Figure size 763.375x360 with 1 Axes>"
      ]
     },
     "metadata": {
      "needs_background": "light"
     },
     "output_type": "display_data"
    }
   ],
   "source": [
    "sns.catplot(x=\"marital_status\",hue=\"default\", kind=\"count\", data=data,aspect=2)"
   ]
  },
  {
   "cell_type": "markdown",
   "metadata": {},
   "source": [
    "<span style=\"font-size:15px;\">&nbsp;&nbsp;&nbsp;&nbsp;Martial status counts</span>"
   ]
  },
  {
   "cell_type": "code",
   "execution_count": 23,
   "metadata": {
    "ExecuteTime": {
     "end_time": "2020-02-17T12:31:20.848505Z",
     "start_time": "2020-02-17T12:31:20.834347Z"
    }
   },
   "outputs": [
    {
     "name": "stdout",
     "output_type": "stream",
     "text": [
      "Married status  :  Count\n",
      "############################\n",
      "Married : 29539\n",
      "Single : 18576\n",
      "Other : 2521\n"
     ]
    }
   ],
   "source": [
    "mt = data['marital_status'].value_counts()\n",
    "print(\"Married status  :  Count\")\n",
    "print(\"############################\")\n",
    "for i in range(len(mt)):\n",
    "    print(mt.index[i],\":\",mt.values[i])"
   ]
  },
  {
   "cell_type": "markdown",
   "metadata": {},
   "source": [
    "#### 4.1.12  number of cards"
   ]
  },
  {
   "cell_type": "code",
   "execution_count": 24,
   "metadata": {
    "ExecuteTime": {
     "end_time": "2020-02-17T12:31:21.324669Z",
     "start_time": "2020-02-17T12:31:20.852060Z"
    }
   },
   "outputs": [
    {
     "data": {
      "text/plain": [
       "<seaborn.axisgrid.FacetGrid at 0x29157273df0>"
      ]
     },
     "execution_count": 24,
     "metadata": {},
     "output_type": "execute_result"
    },
    {
     "data": {
      "image/png": "[encoded data removed]",
      "text/plain": [
       "<Figure size 763.375x360 with 1 Axes>"
      ]
     },
     "metadata": {
      "needs_background": "light"
     },
     "output_type": "display_data"
    }
   ],
   "source": [
    "sns.catplot(x=\"no_card\",hue=\"default\", kind=\"count\", data=data,aspect=2)"
   ]
  },
  {
   "cell_type": "markdown",
   "metadata": {},
   "source": [
    "#### 4.2 Bivariate analysis"
   ]
  },
  {
   "cell_type": "markdown",
   "metadata": {},
   "source": [
    "#### 4.2.1 Age v/s Gender"
   ]
  },
  {
   "cell_type": "markdown",
   "metadata": {},
   "source": [
    "<span style=\"font-size:15px;\">&nbsp;&nbsp;&nbsp;&nbsp;Plotting Age v/s gender</span>"
   ]
  },
  {
   "cell_type": "code",
   "execution_count": 25,
   "metadata": {
    "ExecuteTime": {
     "end_time": "2020-02-17T12:31:22.228916Z",
     "start_time": "2020-02-17T12:31:21.326610Z"
    }
   },
   "outputs": [
    {
     "data": {
      "text/plain": [
       "<seaborn.axisgrid.FacetGrid at 0x29156604100>"
      ]
     },
     "execution_count": 25,
     "metadata": {},
     "output_type": "execute_result"
    },
    {
     "data": {
      "image/png": "[encoded data removed]",
      "text/plain": [
       "<Figure size 403.375x360 with 1 Axes>"
      ]
     },
     "metadata": {
      "needs_background": "light"
     },
     "output_type": "display_data"
    }
   ],
   "source": [
    "sns.catplot(x=\"gender\", y=\"age\",hue=\"default\", kind=\"bar\",data=data)"
   ]
  },
  {
   "cell_type": "markdown",
   "metadata": {},
   "source": [
    "#### 4.2.2 Age v/s Occupation"
   ]
  },
  {
   "cell_type": "markdown",
   "metadata": {},
   "source": [
    "<span style=\"font-size:15px;\">&nbsp;&nbsp;&nbsp;&nbsp;Plotting Age v/s Occupation</span>"
   ]
  },
  {
   "cell_type": "code",
   "execution_count": 26,
   "metadata": {
    "ExecuteTime": {
     "end_time": "2020-02-17T12:31:23.419702Z",
     "start_time": "2020-02-17T12:31:22.231257Z"
    }
   },
   "outputs": [
    {
     "data": {
      "text/plain": [
       "<seaborn.axisgrid.FacetGrid at 0x291571bf9a0>"
      ]
     },
     "execution_count": 26,
     "metadata": {},
     "output_type": "execute_result"
    },
    {
     "data": {
      "image/png": "[encoded data removed]",
      "text/plain": [
       "<Figure size 763.375x360 with 1 Axes>"
      ]
     },
     "metadata": {
      "needs_background": "light"
     },
     "output_type": "display_data"
    }
   ],
   "source": [
    "sns.catplot(x=\"age\", y=\"occupation\",hue=\"default\",data=data,kind=\"bar\",aspect=2)"
   ]
  },
  {
   "cell_type": "markdown",
   "metadata": {},
   "source": [
    "#### 4.2.3 Other plots"
   ]
  },
  {
   "cell_type": "markdown",
   "metadata": {},
   "source": [
    "<blockquote style=\"font-size:16px;color:red;\">\n",
    "    <ul type=\"none\">\n",
    "    <li>Other bivariate plots can be plotted similarly and based on the requirement.</li>\n",
    "    </ul>\n",
    "</blockquote>"
   ]
  },
  {
   "cell_type": "markdown",
   "metadata": {},
   "source": [
    "#### 4.3 Analyzing the imbalance in the dataset"
   ]
  },
  {
   "cell_type": "code",
   "execution_count": 27,
   "metadata": {
    "ExecuteTime": {
     "end_time": "2020-02-17T12:31:23.547158Z",
     "start_time": "2020-02-17T12:31:23.421923Z"
    }
   },
   "outputs": [
    {
     "name": "stdout",
     "output_type": "stream",
     "text": [
      "Points with class label -> 0 are =   84.15751639150012 %\n",
      "Points with class label -> 1 are =   15.842483608499883 %\n"
     ]
    },
    {
     "data": {
      "text/plain": [
       "([<matplotlib.patches.Wedge at 0x2915658fb50>,\n",
       "  <matplotlib.patches.Wedge at 0x29156661fa0>],\n",
       " [Text(-0.9715353121196196, 0.5158673640623465, '0'),\n",
       "  Text(0.9715352879701245, -0.5158674095431959, '1')],\n",
       " [Text(-0.529928352065247, 0.2813821985794617, '84.5%'),\n",
       "  Text(0.5299283388927951, -0.2813822233871977, '15.5%')])"
      ]
     },
     "execution_count": 27,
     "metadata": {},
     "output_type": "execute_result"
    },
    {
     "data": {
      "image/png": "[encoded data removed]",
      "text/plain": [
       "<Figure size 432x288 with 1 Axes>"
      ]
     },
     "metadata": {},
     "output_type": "display_data"
    }
   ],
   "source": [
    "class_label = data['default'].value_counts()\n",
    "total_points = len(data)\n",
    "print(\"Points with class label -> 0 are =  \",class_label.values[0]/total_points*100,\"%\")\n",
    "print(\"Points with class label -> 1 are =  \",class_label.values[1]/total_points*100,\"%\")\n",
    "labels = ['0','1']\n",
    "sizes = [84.15,15.48]\n",
    "colors = ['yellowgreen', 'gold']\n",
    "plt.pie(sizes, labels=labels, colors=colors,autopct='%1.1f%%', shadow=True)"
   ]
  },
  {
   "cell_type": "markdown",
   "metadata": {},
   "source": [
    "<blockquote style=\"font-size:18px;color:blue;\">\n",
    "    <ul type=\"none\">\n",
    "    <li>The given dataset is imbalanced. Because there are 84% of points with class label '0' and just only ~16% of the points with the class label '1'.</li>\n",
    "    </ul>\n",
    "</blockquote>"
   ]
  },
  {
   "cell_type": "markdown",
   "metadata": {},
   "source": [
    "### 5. Making necessary assumptions and changes"
   ]
  },
  {
   "cell_type": "markdown",
   "metadata": {},
   "source": [
    "<blockquote style=\"font-size:16px;color:indigo;\">\n",
    "    <ul type=\"none\">\n",
    "    <li>As the data in here is imbalanced, the decision trees may not perform as well as expected.</li>\n",
    "    <li>We can use undersampling or oversampling to avoid the above problem. Otherwise there is a possibility that we may overfit the training data which will result in high generalization error.</li>\n",
    "        <li>In order to get a good accuracy and as well as \"less generalization error\" we could perform cross validation on various hyperparamaters.</li>\n",
    "        <li>Alternatively we can use Randomforests with decision trees as base learners if we want to improve our models prediction accuracy.</li>\n",
    "    </ul>\n",
    "</blockquote>"
   ]
  },
  {
   "cell_type": "markdown",
   "metadata": {},
   "source": [
    "### 6. Splitting the data into test,cv  and train data sets"
   ]
  },
  {
   "cell_type": "markdown",
   "metadata": {},
   "source": [
    "<blockquote style=\"font-size:16px;color:#333;\">\n",
    "    <ul type=\"none\">\n",
    "    <li>If we train the model on the entire dataset we would not know how well is our model performing. And also how well the model generalizes to the unseen data.</li>\n",
    "    <li>So we make a split of data into train and test sets. Then train the model on the train set and then evaluate the model on the test set.</li>\n",
    "        <li>In this project we are choosing the raio of train:test split as 70% : 30%.</li>\n",
    "    </ul>\n",
    "</blockquote>"
   ]
  },
  {
   "cell_type": "code",
   "execution_count": 28,
   "metadata": {
    "ExecuteTime": {
     "end_time": "2020-02-17T12:31:23.646768Z",
     "start_time": "2020-02-17T12:31:23.549396Z"
    }
   },
   "outputs": [
    {
     "name": "stdout",
     "output_type": "stream",
     "text": [
      "Dimensionality of X_train and y_train :\n",
      "(24811, 12) (24811,)\n",
      "Dimensionality of X_test and y_test :\n",
      "(15191, 12) (15191,)\n",
      "Dimensionality of X_cv and y_cv :\n",
      "(10634, 12) (10634,)\n"
     ]
    }
   ],
   "source": [
    "y = data['default']\n",
    "x = data.drop(['default'],axis=1)\n",
    "x_train, x_test, y_train, y_test = train_test_split(x, y, test_size=0.3,stratify=y)\n",
    "x_train, x_cv, y_train, y_cv = train_test_split(x_train, y_train, test_size=0.3,stratify=y_train)\n",
    "print(\"Dimensionality of X_train and y_train :\")\n",
    "print(x_train.values.shape ,y_train.values.shape)\n",
    "print(\"Dimensionality of X_test and y_test :\")\n",
    "print(x_test.values.shape ,y_test.values.shape)\n",
    "print(\"Dimensionality of X_cv and y_cv :\")\n",
    "print(x_cv.values.shape ,y_cv.values.shape)"
   ]
  },
  {
   "cell_type": "markdown",
   "metadata": {},
   "source": [
    "### 7. Data cleaning and pre processing"
   ]
  },
  {
   "cell_type": "markdown",
   "metadata": {},
   "source": [
    "#### 7.1 Handling numerical features"
   ]
  },
  {
   "cell_type": "markdown",
   "metadata": {},
   "source": [
    "#### 7.1.1 Scaling the annual_income attribute"
   ]
  },
  {
   "cell_type": "markdown",
   "metadata": {},
   "source": [
    "<blockquote style=\"font-size:16px;color:#333;\">\n",
    "    <ul type=\"none\">\n",
    "    <li>In here to scale the numerical features we are using sklearn.preprocessing.StandarScaler.</li>\n",
    "        <li>The sklearn library generally offers 3 methods fit(), transform() and fit_transform().</li>\n",
    "        <li style=\"color:red;\">And we need to be cautious and use fit() only on train data(i.e x_train) and then transform the x_train and x_test. We should never fit() on the test data. Because that would cause <span style=\"color:indigo;\">\"data leakage\"</span></li>\n",
    "        <li>For reference : https://datascience.stackexchange.com/questions/31232/why-not-use-scaler-fit-transform-on-total-dataframe</li>\n",
    "    </ul>\n",
    "</blockquote>"
   ]
  },
  {
   "cell_type": "code",
   "execution_count": 29,
   "metadata": {
    "ExecuteTime": {
     "end_time": "2020-02-17T12:31:23.660448Z",
     "start_time": "2020-02-17T12:31:23.649124Z"
    }
   },
   "outputs": [],
   "source": [
    "sc = StandardScaler()\n",
    "sc.fit(x_train['annual_income'].values.reshape(-1,1))\n",
    "temp = sc.transform(x_train['annual_income'].values.reshape(-1,1))\n",
    "x_train['annual_income'] = deepcopy(temp)\n",
    "temp = sc.transform(x_test['annual_income'].values.reshape(-1,1))\n",
    "x_test['annual_income'] = deepcopy(temp)\n",
    "temp = sc.transform(x_cv['annual_income'].values.reshape(-1,1))\n",
    "x_cv['annual_income'] = deepcopy(temp)"
   ]
  },
  {
   "cell_type": "markdown",
   "metadata": {},
   "source": [
    "#### 7.1.2 Scaling the disposable income"
   ]
  },
  {
   "cell_type": "code",
   "execution_count": 30,
   "metadata": {
    "ExecuteTime": {
     "end_time": "2020-02-17T12:31:23.727606Z",
     "start_time": "2020-02-17T12:31:23.662772Z"
    }
   },
   "outputs": [],
   "source": [
    "sc = StandardScaler()\n",
    "sc.fit(x_train['disposable_income'].values.reshape(-1,1))\n",
    "temp = sc.transform(x_train['disposable_income'].values.reshape(-1,1))\n",
    "x_train['disposable_income'] = deepcopy(temp)\n",
    "temp = sc.transform(x_test['disposable_income'].values.reshape(-1,1))\n",
    "x_test['disposable_income'] = deepcopy(temp)\n",
    "temp = sc.transform(x_cv['disposable_income'].values.reshape(-1,1))\n",
    "x_cv['disposable_income'] = deepcopy(temp)"
   ]
  },
  {
   "cell_type": "markdown",
   "metadata": {},
   "source": [
    "#### 7.2 Handling categorical features"
   ]
  },
  {
   "cell_type": "markdown",
   "metadata": {},
   "source": [
    "#### 7.2.1 Encoding Gender attribute"
   ]
  },
  {
   "cell_type": "code",
   "execution_count": 31,
   "metadata": {
    "ExecuteTime": {
     "end_time": "2020-02-17T12:31:23.823640Z",
     "start_time": "2020-02-17T12:31:23.729497Z"
    }
   },
   "outputs": [],
   "source": [
    "label_encoder = preprocessing.LabelEncoder()\n",
    "label_encoder.fit(x_train['gender'])\n",
    "temp = label_encoder.transform(x_train['gender'])\n",
    "x_train['gender'] = deepcopy(temp)\n",
    "temp = label_encoder.transform(x_test['gender'])\n",
    "x_test['gender'] = deepcopy(temp)\n",
    "temp = label_encoder.transform(x_cv['gender'])\n",
    "x_cv['gender'] = deepcopy(temp)"
   ]
  },
  {
   "cell_type": "markdown",
   "metadata": {},
   "source": [
    "#### 7.2.2 Encoding Education attribute"
   ]
  },
  {
   "cell_type": "code",
   "execution_count": 32,
   "metadata": {
    "ExecuteTime": {
     "end_time": "2020-02-17T12:31:23.922977Z",
     "start_time": "2020-02-17T12:31:23.826409Z"
    }
   },
   "outputs": [],
   "source": [
    "label_encoder = preprocessing.LabelEncoder()\n",
    "label_encoder.fit(x_train['education'])\n",
    "temp = label_encoder.transform(x_train['education'])\n",
    "x_train['education'] = deepcopy(temp)\n",
    "temp = label_encoder.transform(x_test['education'])\n",
    "x_test['education'] = deepcopy(temp)\n",
    "temp = label_encoder.transform(x_cv['education'])\n",
    "x_cv['education'] = deepcopy(temp)"
   ]
  },
  {
   "cell_type": "markdown",
   "metadata": {},
   "source": [
    "#### 7.2.3 Encoding Occupation attribute"
   ]
  },
  {
   "cell_type": "code",
   "execution_count": 33,
   "metadata": {
    "ExecuteTime": {
     "end_time": "2020-02-17T12:31:24.025655Z",
     "start_time": "2020-02-17T12:31:23.925406Z"
    }
   },
   "outputs": [],
   "source": [
    "label_encoder = preprocessing.LabelEncoder()\n",
    "label_encoder.fit(x_train['occupation'])\n",
    "temp = label_encoder.transform(x_train['occupation'])\n",
    "x_train['occupation'] = deepcopy(temp)\n",
    "temp = label_encoder.transform(x_test['occupation'])\n",
    "x_test['occupation'] = deepcopy(temp)\n",
    "temp = label_encoder.transform(x_cv['occupation'])\n",
    "x_cv['occupation'] = deepcopy(temp)"
   ]
  },
  {
   "cell_type": "markdown",
   "metadata": {},
   "source": [
    "#### 7.2.4 Encoding the organization type attribute"
   ]
  },
  {
   "cell_type": "code",
   "execution_count": 34,
   "metadata": {
    "ExecuteTime": {
     "end_time": "2020-02-17T12:31:24.128278Z",
     "start_time": "2020-02-17T12:31:24.028949Z"
    }
   },
   "outputs": [],
   "source": [
    "label_encoder = preprocessing.LabelEncoder()\n",
    "label_encoder.fit(x_train['organization_type'])\n",
    "temp = label_encoder.transform(x_train['organization_type'])\n",
    "x_train['organization_type'] = deepcopy(temp)\n",
    "temp = label_encoder.transform(x_test['organization_type'])\n",
    "x_test['organization_type'] = deepcopy(temp)\n",
    "temp = label_encoder.transform(x_cv['organization_type'])\n",
    "x_cv['organization_type'] = deepcopy(temp)"
   ]
  },
  {
   "cell_type": "markdown",
   "metadata": {},
   "source": [
    "#### 7.2.5 Encoding the Senioriy attribute"
   ]
  },
  {
   "cell_type": "code",
   "execution_count": 35,
   "metadata": {
    "ExecuteTime": {
     "end_time": "2020-02-17T12:31:24.271721Z",
     "start_time": "2020-02-17T12:31:24.131084Z"
    }
   },
   "outputs": [],
   "source": [
    "label_encoder = preprocessing.LabelEncoder()\n",
    "label_encoder.fit(x_train['seniority'])\n",
    "temp = label_encoder.transform(x_train['seniority'])\n",
    "x_train['seniority'] = deepcopy(temp)\n",
    "temp = label_encoder.transform(x_test['seniority'])\n",
    "x_test['seniority'] = deepcopy(temp)\n",
    "temp = label_encoder.transform(x_cv['seniority'])\n",
    "x_cv['seniority'] = deepcopy(temp)"
   ]
  },
  {
   "cell_type": "markdown",
   "metadata": {
    "ExecuteTime": {
     "end_time": "2020-01-17T13:29:43.839543Z",
     "start_time": "2020-01-17T13:29:43.830410Z"
    }
   },
   "source": [
    "#### 7.2.6 Encoding the house type"
   ]
  },
  {
   "cell_type": "code",
   "execution_count": 36,
   "metadata": {
    "ExecuteTime": {
     "end_time": "2020-02-17T12:31:24.414600Z",
     "start_time": "2020-02-17T12:31:24.273570Z"
    }
   },
   "outputs": [],
   "source": [
    "label_encoder = preprocessing.LabelEncoder()\n",
    "label_encoder.fit(x_train['house_type'])\n",
    "temp = label_encoder.transform(x_train['house_type'])\n",
    "x_train['house_type'] = deepcopy(temp)\n",
    "temp = label_encoder.transform(x_test['house_type'])\n",
    "x_test['house_type'] = deepcopy(temp)\n",
    "temp = label_encoder.transform(x_cv['house_type'])\n",
    "x_cv['house_type'] = deepcopy(temp)"
   ]
  },
  {
   "cell_type": "markdown",
   "metadata": {},
   "source": [
    "#### 7.2.7 Encoding the vehicle type"
   ]
  },
  {
   "cell_type": "code",
   "execution_count": 37,
   "metadata": {
    "ExecuteTime": {
     "end_time": "2020-02-17T12:31:24.497223Z",
     "start_time": "2020-02-17T12:31:24.420362Z"
    }
   },
   "outputs": [],
   "source": [
    "label_encoder = preprocessing.LabelEncoder()\n",
    "label_encoder.fit(x_train['vehicle_type'])\n",
    "temp = label_encoder.transform(x_train['vehicle_type'])\n",
    "x_train['vehicle_type'] = deepcopy(temp)\n",
    "temp = label_encoder.transform(x_test['vehicle_type'])\n",
    "x_test['vehicle_type'] = deepcopy(temp)\n",
    "temp = label_encoder.transform(x_cv['vehicle_type'])\n",
    "x_cv['vehicle_type'] = deepcopy(temp)"
   ]
  },
  {
   "cell_type": "markdown",
   "metadata": {},
   "source": [
    "#### 7.2.8 Encoding the maritial status"
   ]
  },
  {
   "cell_type": "code",
   "execution_count": 38,
   "metadata": {
    "ExecuteTime": {
     "end_time": "2020-02-17T12:31:24.567514Z",
     "start_time": "2020-02-17T12:31:24.507242Z"
    }
   },
   "outputs": [],
   "source": [
    "label_encoder = preprocessing.LabelEncoder()\n",
    "label_encoder.fit(x_train['marital_status'])\n",
    "temp = label_encoder.transform(x_train['marital_status'])\n",
    "x_train['marital_status'] = deepcopy(temp)\n",
    "temp = label_encoder.transform(x_test['marital_status'])\n",
    "x_test['marital_status'] = deepcopy(temp)\n",
    "temp = label_encoder.transform(x_cv['marital_status'])\n",
    "x_cv['marital_status'] = deepcopy(temp)"
   ]
  },
  {
   "cell_type": "markdown",
   "metadata": {},
   "source": [
    "### 8. Finding the best parameters using the cross validation"
   ]
  },
  {
   "cell_type": "markdown",
   "metadata": {},
   "source": [
    "#### 8.1 Performing the grid search cross validation"
   ]
  },
  {
   "cell_type": "code",
   "execution_count": 39,
   "metadata": {
    "ExecuteTime": {
     "end_time": "2020-02-17T12:31:30.135908Z",
     "start_time": "2020-02-17T12:31:24.569921Z"
    }
   },
   "outputs": [],
   "source": [
    "params = {'max_depth': np.arange(3, 10),'criterion' :['gini', 'entropy']}\n",
    "dt = DecisionTreeClassifier()\n",
    "best_model = GridSearchCV(dt, params)\n",
    "best_model.fit(x_train,y_train)\n",
    "y_pred_cv = best_model.predict_proba(x_cv)[:, 1]\n",
    "auc_score = roc_auc_score(y_cv, y_pred_cv)"
   ]
  },
  {
   "cell_type": "code",
   "execution_count": 40,
   "metadata": {
    "ExecuteTime": {
     "end_time": "2020-02-17T12:31:30.141824Z",
     "start_time": "2020-02-17T12:31:30.137790Z"
    }
   },
   "outputs": [
    {
     "name": "stdout",
     "output_type": "stream",
     "text": [
      "The AUC on cross validation set is : 0.7697287265490267\n"
     ]
    }
   ],
   "source": [
    "print(\"The AUC on cross validation set is :\",auc_score)"
   ]
  },
  {
   "cell_type": "markdown",
   "metadata": {},
   "source": [
    "#### 8.2 Getting the best hyperparameters"
   ]
  },
  {
   "cell_type": "code",
   "execution_count": 41,
   "metadata": {
    "ExecuteTime": {
     "end_time": "2020-02-17T12:31:30.244971Z",
     "start_time": "2020-02-17T12:31:30.143743Z"
    }
   },
   "outputs": [
    {
     "data": {
      "text/plain": [
       "{'criterion': 'entropy', 'max_depth': 7}"
      ]
     },
     "execution_count": 41,
     "metadata": {},
     "output_type": "execute_result"
    }
   ],
   "source": [
    "best_model.best_params_"
   ]
  },
  {
   "cell_type": "markdown",
   "metadata": {},
   "source": [
    "### 9. Training the model with best hyperparameters"
   ]
  },
  {
   "cell_type": "code",
   "execution_count": 42,
   "metadata": {
    "ExecuteTime": {
     "end_time": "2020-02-17T12:31:30.407384Z",
     "start_time": "2020-02-17T12:31:30.247001Z"
    }
   },
   "outputs": [],
   "source": [
    "dt = DecisionTreeClassifier(criterion='gini',max_depth=6)\n",
    "dt.fit(x_train,y_train)\n",
    "y_pred_train = dt.predict_proba(x_train)[:,1]\n",
    "y_pred_test = dt.predict_proba(x_test)[:,1]"
   ]
  },
  {
   "cell_type": "markdown",
   "metadata": {},
   "source": [
    "### 10. Evaluating the performance of the model"
   ]
  },
  {
   "cell_type": "markdown",
   "metadata": {},
   "source": [
    "#### 10.1 Finding the false positive rate , true positive rate , threshold of train and test data and plotting ROC"
   ]
  },
  {
   "cell_type": "code",
   "execution_count": 43,
   "metadata": {
    "ExecuteTime": {
     "end_time": "2020-02-17T12:31:30.421410Z",
     "start_time": "2020-02-17T12:31:30.409329Z"
    }
   },
   "outputs": [],
   "source": [
    "train_fpr, train_tpr, tr_thresholds = metrics.roc_curve(y_train, y_pred_train)\n",
    "test_fpr, test_tpr, te_thresholds = metrics.roc_curve(y_test, y_pred_test)"
   ]
  },
  {
   "cell_type": "code",
   "execution_count": 44,
   "metadata": {
    "ExecuteTime": {
     "end_time": "2020-02-17T12:31:30.725136Z",
     "start_time": "2020-02-17T12:31:30.424576Z"
    }
   },
   "outputs": [
    {
     "data": {
      "image/png": "[encoded data removed]",
      "text/plain": [
       "<Figure size 432x288 with 1 Axes>"
      ]
     },
     "metadata": {
      "needs_background": "light"
     },
     "output_type": "display_data"
    }
   ],
   "source": [
    "plt.plot(train_fpr, train_tpr, label=\"train AUC =\"+str(metrics.auc(train_fpr, train_tpr)))\n",
    "plt.plot(test_fpr, test_tpr, label=\"test AUC =\"+str(metrics.auc(test_fpr, test_tpr)))\n",
    "plt.legend()\n",
    "plt.xlabel(\"False Positive Rate\")\n",
    "plt.ylabel(\"True Positive Rate\")\n",
    "plt.title(\"ROC curve\")\n",
    "plt.grid()\n",
    "plt.show()"
   ]
  },
  {
   "cell_type": "markdown",
   "metadata": {},
   "source": [
    "<blockquote style=\"font-size:16px;color:#333;\">\n",
    "    <ul type=\"none\">\n",
    "    <li>The AUC of a random model(randomly predict 0 or 1 ) would be = 0.5.</li>\n",
    "        <li>As our model`s AUC > 0.5 our model is performing well both on the train data as well as the test data.</li>\n",
    "    </ul>\n",
    "</blockquote>"
   ]
  },
  {
   "cell_type": "markdown",
   "metadata": {},
   "source": [
    "#### 10.2 Accuracy of the model"
   ]
  },
  {
   "cell_type": "code",
   "execution_count": 45,
   "metadata": {
    "ExecuteTime": {
     "end_time": "2020-02-17T12:31:30.750029Z",
     "start_time": "2020-02-17T12:31:30.727357Z"
    }
   },
   "outputs": [
    {
     "name": "stdout",
     "output_type": "stream",
     "text": [
      "Train accuracy is : 86.04651162790698\n",
      "Test accuracy is  : 86.03778553090646\n",
      "CV accuracy is  : 85.96953169080308\n"
     ]
    }
   ],
   "source": [
    "print(\"Train accuracy is :\",dt.score(x_train,y_train)*100)\n",
    "print(\"Test accuracy is  :\",dt.score(x_test,y_test)*100)\n",
    "print(\"CV accuracy is  :\",dt.score(x_cv,y_cv)*100)"
   ]
  },
  {
   "cell_type": "markdown",
   "metadata": {},
   "source": [
    "#### 10.3 confusion matrix"
   ]
  },
  {
   "cell_type": "code",
   "execution_count": 46,
   "metadata": {
    "ExecuteTime": {
     "end_time": "2020-02-17T12:31:31.904910Z",
     "start_time": "2020-02-17T12:31:30.752774Z"
    }
   },
   "outputs": [
    {
     "data": {
      "text/html": [
       "<style  type=\"text/css\" >\n",
       "#T_edf96_row0_col0,#T_edf96_row1_col1{\n",
       "            background-color:  #08306b;\n",
       "            color:  #f1f1f1;\n",
       "        }#T_edf96_row0_col1,#T_edf96_row1_col0{\n",
       "            background-color:  #f7fbff;\n",
       "            color:  #000000;\n",
       "        }</style><table id=\"T_edf96_\" ><thead>    <tr>        <th class=\"blank level0\" ></th>        <th class=\"col_heading level0 col0\" >0</th>        <th class=\"col_heading level0 col1\" >1</th>    </tr></thead><tbody>\n",
       "                <tr>\n",
       "                        <th id=\"T_edf96_level0_row0\" class=\"row_heading level0 row0\" >0</th>\n",
       "                        <td id=\"T_edf96_row0_col0\" class=\"data row0 col0\" >12446</td>\n",
       "                        <td id=\"T_edf96_row0_col1\" class=\"data row0 col1\" >338</td>\n",
       "            </tr>\n",
       "            <tr>\n",
       "                        <th id=\"T_edf96_level0_row1\" class=\"row_heading level0 row1\" >1</th>\n",
       "                        <td id=\"T_edf96_row1_col0\" class=\"data row1 col0\" >1783</td>\n",
       "                        <td id=\"T_edf96_row1_col1\" class=\"data row1 col1\" >624</td>\n",
       "            </tr>\n",
       "    </tbody></table>"
      ],
      "text/plain": [
       "<pandas.io.formats.style.Styler at 0x29156583640>"
      ]
     },
     "execution_count": 46,
     "metadata": {},
     "output_type": "execute_result"
    }
   ],
   "source": [
    "confusion_matrix_test = pd.DataFrame(confusion_matrix(y_test, dt.predict(x_test)),index=['0','1'],columns=['0','1'])\n",
    "confusion_matrix_test.style.background_gradient(cmap='Blues')"
   ]
  },
  {
   "cell_type": "markdown",
   "metadata": {},
   "source": [
    "#### 10.4 Feature importance"
   ]
  },
  {
   "cell_type": "code",
   "execution_count": 47,
   "metadata": {
    "ExecuteTime": {
     "end_time": "2020-02-17T12:31:32.913157Z",
     "start_time": "2020-02-17T12:31:31.907433Z"
    }
   },
   "outputs": [
    {
     "data": {
      "text/html": [
       "<div>\n",
       "<style scoped>\n",
       "    .dataframe tbody tr th:only-of-type {\n",
       "        vertical-align: middle;\n",
       "    }\n",
       "\n",
       "    .dataframe tbody tr th {\n",
       "        vertical-align: top;\n",
       "    }\n",
       "\n",
       "    .dataframe thead th {\n",
       "        text-align: right;\n",
       "    }\n",
       "</style>\n",
       "<table border=\"1\" class=\"dataframe\">\n",
       "  <thead>\n",
       "    <tr style=\"text-align: right;\">\n",
       "      <th></th>\n",
       "      <th>age</th>\n",
       "      <th>gender</th>\n",
       "      <th>education</th>\n",
       "      <th>occupation</th>\n",
       "      <th>organization_type</th>\n",
       "      <th>seniority</th>\n",
       "      <th>annual_income</th>\n",
       "      <th>disposable_income</th>\n",
       "      <th>house_type</th>\n",
       "      <th>vehicle_type</th>\n",
       "      <th>marital_status</th>\n",
       "      <th>no_card</th>\n",
       "    </tr>\n",
       "  </thead>\n",
       "  <tbody>\n",
       "    <tr>\n",
       "      <th>0</th>\n",
       "      <td>0.463434</td>\n",
       "      <td>0.002075</td>\n",
       "      <td>0.133067</td>\n",
       "      <td>0.001567</td>\n",
       "      <td>0.000522</td>\n",
       "      <td>0.0</td>\n",
       "      <td>0.005172</td>\n",
       "      <td>0.014075</td>\n",
       "      <td>0.322583</td>\n",
       "      <td>0.009897</td>\n",
       "      <td>0.039425</td>\n",
       "      <td>0.008183</td>\n",
       "    </tr>\n",
       "  </tbody>\n",
       "</table>\n",
       "</div>"
      ],
      "text/plain": [
       "        age    gender  education  occupation  organization_type  seniority  \\\n",
       "0  0.463434  0.002075   0.133067    0.001567           0.000522        0.0   \n",
       "\n",
       "   annual_income  disposable_income  house_type  vehicle_type  marital_status  \\\n",
       "0       0.005172           0.014075    0.322583      0.009897        0.039425   \n",
       "\n",
       "    no_card  \n",
       "0  0.008183  "
      ]
     },
     "execution_count": 47,
     "metadata": {},
     "output_type": "execute_result"
    }
   ],
   "source": [
    "fi = dt.feature_importances_\n",
    "features = x_train.columns\n",
    "fi_dict = dict(zip(features,fi))\n",
    "fi_df = pd.DataFrame(fi_dict,index={0})\n",
    "fi_df"
   ]
  },
  {
   "cell_type": "markdown",
   "metadata": {},
   "source": [
    "### 11. References"
   ]
  },
  {
   "cell_type": "markdown",
   "metadata": {
    "ExecuteTime": {
     "end_time": "2020-01-17T13:38:27.343562Z",
     "start_time": "2020-01-17T13:38:27.332131Z"
    }
   },
   "source": [
    "### 1. https://stackoverflow.com/questions/31161637/grid-search-cross-validation-in-sklearn <br>\n",
    "### 2. https://stackoverflow.com/questions/12286607/making-heatmap-from-pandas-dataframe <br>\n",
    "### 3. https://scikit-learn.org/stable/modules/model_evaluation.html"
   ]
  }
 ],
 "metadata": {
  "kernelspec": {
   "display_name": "Python 3",
   "language": "python",
   "name": "python3"
  },
  "language_info": {
   "codemirror_mode": {
    "name": "ipython",
    "version": 3
   },
   "file_extension": ".py",
   "mimetype": "text/x-python",
   "name": "python",
   "nbconvert_exporter": "python",
   "pygments_lexer": "ipython3",
   "version": "3.8.8"
  }
 },
 "nbformat": 4,
 "nbformat_minor": 2
}
